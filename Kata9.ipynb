{
 "cells": [
  {
   "cell_type": "markdown",
   "metadata": {},
   "source": [
    "Ejercicio 1"
   ]
  },
  {
   "cell_type": "code",
   "execution_count": 7,
   "metadata": {},
   "outputs": [
    {
     "name": "stdout",
     "output_type": "stream",
     "text": [
      "Reporte de combustible:\n",
      "    Combustible Total: 53.0%\n",
      "    Tanque 1: 60%\n",
      "    Tanque 2: 43%\n",
      "    Tanque 3: 56% \n",
      "    \n",
      "Reporte de Combustible Actualizado:\n",
      "    Combustible Total : 92.66666666666667%\n",
      "    Tanque 1: 90%\n",
      "    Tanque 2: 89%\n",
      "    Tanque 3: 99% \n",
      "    \n"
     ]
    }
   ],
   "source": [
    "def reporte(tanque1, tanque2, tanque3):\n",
    "    promedio_total = (tanque1 + tanque2 + tanque3) / 3\n",
    "    return f\"\"\"Reporte de combustible:\n",
    "    Combustible Total: {promedio_total}%\n",
    "    Tanque 1: {tanque1}%\n",
    "    Tanque 2: {tanque2}%\n",
    "    Tanque 3: {tanque3}% \n",
    "    \"\"\"\n",
    "print(reporte(60,43, 56))\n",
    "\n",
    "def promedio(valor):\n",
    "    total = sum(valor)\n",
    "    obetost = len(valor)\n",
    "    return total / obetost\n",
    "\n",
    "\n",
    "promedio([98, 95, 100]) \n",
    "\n",
    "def reporte2(tanque11, tanque22, tanque33):\n",
    "    return f\"\"\"Reporte de Combustible Actualizado:\n",
    "    Combustible Total : {promedio([tanque11, tanque22, tanque33])}%\n",
    "    Tanque 1: {tanque11}%\n",
    "    Tanque 2: {tanque22}%\n",
    "    Tanque 3: {tanque33}% \n",
    "    \"\"\"\n",
    "\n",
    "# Call the updated function again with different values\n",
    "print(reporte2(90, 89, 99))"
   ]
  },
  {
   "cell_type": "markdown",
   "metadata": {},
   "source": [
    "Ejercicio 2"
   ]
  },
  {
   "cell_type": "code",
   "execution_count": 13,
   "metadata": {},
   "outputs": [
    {
     "name": "stdout",
     "output_type": "stream",
     "text": [
      "\n",
      "    Mision hacia Luna\n",
      "    Tiempo de vuelo: 65 minutos\n",
      "    Combustible total: 500000 litros\n",
      "    \n",
      "\n",
      "    Mision hacia Luna\n",
      "    Tiempo de vuelo actualizado: 76 minutos\n",
      "    Combustible Total actualizado: 500000\n",
      "    \n",
      "\n",
      "    Mision hacia Luna\n",
      "    Tiempo de vuelo actualizado(2): 74 minutes\n",
      "    Combustible Total actualizado(2): 500000\n",
      "    PRINCIPAL Tanque --> 300000 litros restantes\n",
      "EXTERNO Tanque --> 200000 litros restantes\n",
      "\n"
     ]
    }
   ],
   "source": [
    "\n",
    "def reporte_mision(tlanzamiento, tvuelo, destino, tanqueex, tanquein):\n",
    "    return f\"\"\"\n",
    "    Mision hacia {destino}\n",
    "    Tiempo de vuelo: {tlanzamiento + tvuelo} minutos\n",
    "    Combustible total: {tanqueex+ tanquein} litros\n",
    "    \"\"\"\n",
    "\n",
    "print(reporte_mision(14, 51, \"Luna\", 200000, 300000))\n",
    "def reporte_mision(destino, *minutes, **fuel_reservoirs):\n",
    "    return f\"\"\"\n",
    "    Mision hacia {destino}\n",
    "    Tiempo de vuelo actualizado: {sum(minutes)} minutos\n",
    "    Combustible Total actualizado: {sum(fuel_reservoirs.values())}\n",
    "    \"\"\"\n",
    "\n",
    "print(reporte_mision(\"Luna\", 10, 15, 51, main=300000, external=200000))\n",
    "def reporte_mision(destino, *minutes, **fuel_reservoirs):\n",
    "    reporte_principal = f\"\"\"\n",
    "    Mision hacia {destino}\n",
    "    Tiempo de vuelo actualizado(2): {sum(minutes)} minutes\n",
    "    Combustible Total actualizado(2): {sum(fuel_reservoirs.values())}\n",
    "    \"\"\"\n",
    "    for Tanque_Principal, litros in fuel_reservoirs.items():\n",
    "        reporte_principal += f\"{Tanque_Principal} Tanque --> {litros} litros restantes\\n\"\n",
    "    return reporte_principal\n",
    "\n",
    "print(reporte_mision(\"Luna\", 8, 11, 55, PRINCIPAL=300000, EXTERNO=200000))"
   ]
  }
 ],
 "metadata": {
  "interpreter": {
   "hash": "8ed06d07b9ff369db6ed7b53447be18709da67cd911d838d72fee7fecb26667a"
  },
  "kernelspec": {
   "display_name": "Python 3.10.2 64-bit",
   "language": "python",
   "name": "python3"
  },
  "language_info": {
   "codemirror_mode": {
    "name": "ipython",
    "version": 3
   },
   "file_extension": ".py",
   "mimetype": "text/x-python",
   "name": "python",
   "nbconvert_exporter": "python",
   "pygments_lexer": "ipython3",
   "version": "3.10.2"
  },
  "orig_nbformat": 4
 },
 "nbformat": 4,
 "nbformat_minor": 2
}
