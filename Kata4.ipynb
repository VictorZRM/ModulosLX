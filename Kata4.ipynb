{
 "cells": [
  {
   "cell_type": "markdown",
   "metadata": {},
   "source": [
    "Ejercicio 1"
   ]
  },
  {
   "cell_type": "code",
   "execution_count": 28,
   "metadata": {},
   "outputs": [
    {
     "name": "stdout",
     "output_type": "stream",
     "text": [
      "\n",
      "\",\n",
      "        \"As a whole, when the moon is full it seems, according to some cultures, to form a human face or the figure of a rabbit, although in reality the areas represent the different compositions and ages of the rocks\n"
     ]
    }
   ],
   "source": [
    "texto = \"\"\"The Moon has a solid rocky surface whose most striking feature is the presence of many craters and basins. As its atmosphere is so weak and almost non-existent, it does not provide any protection against the impact of asteroids, meteorites or other celestial bodies, a fact that allows them to collide with the Moon. \\n\",\n",
    "        \"As a whole, when the moon is full it seems, according to some cultures, to form a human face or the figure of a rabbit, although in reality the areas represent the different compositions and ages of the rocks. The temperature of the Moon is 127 C.\"\"\"\n",
    "texto2 = texto.split('. ')\n",
    "texto2\n",
    "\n",
    "\n",
    "palabras_clave = [\"cultures\",\"temperature\",\"rocks\"]\n",
    "#Imprimir Oracion\n",
    "for sentence in texto2:\n",
    "    for palabraclave in palabras_clave:\n",
    "        if palabraclave in sentence:\n",
    "            print(sentence)\n",
    "        break"
   ]
  },
  {
   "cell_type": "markdown",
   "metadata": {},
   "source": [
    "Cambiar c a Celsius"
   ]
  },
  {
   "cell_type": "code",
   "execution_count": 31,
   "metadata": {},
   "outputs": [
    {
     "name": "stdout",
     "output_type": "stream",
     "text": [
      "The temperature of the Moon is 127 Celsius.\n"
     ]
    }
   ],
   "source": [
    "\n",
    "palabras_clave = [\"temperature\"]\n",
    "for sentence in texto2:\n",
    "    for palabraclave in palabras_clave:\n",
    "        if palabraclave in sentence:\n",
    "            print(sentence.replace(' C', ' Celsius'))\n",
    "        break"
   ]
  },
  {
   "cell_type": "markdown",
   "metadata": {},
   "source": [
    "Ejercicio 2"
   ]
  },
  {
   "cell_type": "code",
   "execution_count": 37,
   "metadata": {},
   "outputs": [
    {
     "name": "stdout",
     "output_type": "stream",
     "text": [
      "INFORMACION 1:\n",
      "\n",
      "-------------------------------------------------------------------------------- \n",
      "Nombre del planeta: Tierra \n",
      "Gravedad en Luna: 1.6199999999999999 m/s2 \n",
      "\n",
      "-------------------------------------------------------------------------------- \n",
      "Nombre del planeta: Tierra \n",
      "Gravedad en Luna: 1.6199999999999999 m/s2 \n",
      "\n",
      "PLANTILLA COMPROBADA\n",
      "\n",
      "Datos de Gravedad sobre: Luna\n",
      "-------------------------------------------------------------------------------\n",
      "Nombre del planeta: Tierra\n",
      "Gravedad en Luna: 0.00162 m/s2\n",
      "\n",
      "\n",
      "Datos de Gravedad sobre: Ganímedes\n",
      "-------------------------------------------------------------------------------\n",
      "Nombre del planeta: Marte \n",
      "Gravedad en Ganímedes: 1.4300000000000002 m/s2\n",
      "\n"
     ]
    }
   ],
   "source": [
    "# Datos\n",
    "nombre = \"Luna\"\n",
    "gravedad = 0.00162\n",
    "planeta = \"Tierra\"\n",
    "#titulo\n",
    "titulo = 'datos de gravedad sobre %s' % planeta\n",
    "print('INFORMACION 1:\\n')\n",
    "#info\n",
    "informacion = f\"\"\"{'----'*20} \n",
    "Nombre del planeta: {planeta} \n",
    "Gravedad en {nombre}: {gravedad * 1000} m/s2 \n",
    "\"\"\"\n",
    "# Unión de ambas cadenas\n",
    "template = f\"\"\"{titulo.title()} \n",
    "{informacion} \n",
    "\"\"\" \n",
    "print(informacion)\n",
    "\n",
    "\n",
    "#Datos\n",
    "planeta2 = 'Marte '\n",
    "gravedad2  = 0.00143*1000\n",
    "nombre2 = 'Ganímedes'\n",
    "# Comprobar plantilla\n",
    "print(informacion)\n",
    "print('PLANTILLA COMPROBADA')\n",
    "new_template = \"\"\"\n",
    "Datos de Gravedad sobre: {nombre}\n",
    "-------------------------------------------------------------------------------\n",
    "Nombre del planeta: {planeta}\n",
    "Gravedad en {nombre}: {gravedad} m/s2\n",
    "\"\"\"\n",
    "print(new_template.format(nombre=nombre, planeta=planeta, gravedad=gravedad))\n",
    "print(new_template.format(nombre=nombre2, planeta=planeta2, gravedad=gravedad2))"
   ]
  }
 ],
 "metadata": {
  "interpreter": {
   "hash": "8ed06d07b9ff369db6ed7b53447be18709da67cd911d838d72fee7fecb26667a"
  },
  "kernelspec": {
   "display_name": "Python 3.10.2 64-bit",
   "language": "python",
   "name": "python3"
  },
  "language_info": {
   "name": "python",
   "version": "3.10.2"
  },
  "orig_nbformat": 4
 },
 "nbformat": 4,
 "nbformat_minor": 2
}
