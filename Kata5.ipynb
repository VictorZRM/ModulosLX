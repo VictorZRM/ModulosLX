{
 "cells": [
  {
   "cell_type": "markdown",
   "metadata": {},
   "source": [
    "Ejercicio 1"
   ]
  },
  {
   "cell_type": "code",
   "execution_count": 2,
   "metadata": {},
   "outputs": [
    {
     "name": "stdout",
     "output_type": "stream",
     "text": [
      "La distancia es: 31329\n"
     ]
    }
   ],
   "source": [
    "planeta1 = 14144\n",
    "planeta2 = 45473\n",
    "\n",
    "resultado = planeta2 - planeta1\n",
    "print('La distancia es: %s'%resultado)"
   ]
  },
  {
   "cell_type": "markdown",
   "metadata": {},
   "source": [
    "Ejercicio 2"
   ]
  },
  {
   "cell_type": "code",
   "execution_count": 5,
   "metadata": {},
   "outputs": [
    {
     "name": "stdout",
     "output_type": "stream",
     "text": [
      "La distancia en Km es: -111\n",
      "La distancia en millas es: \n",
      "68.931\n"
     ]
    }
   ],
   "source": [
    "variable1 = input(\"Introduzca distancia 1 (km)\")\n",
    "variable2 = input(\"Introduzca distancia 2 (km)\")\n",
    "\n",
    "variable1 = int(variable1)\n",
    "variable2 = int(variable2)\n",
    "distancia = variable2 - variable1\n",
    "print('La distancia en Km es: %s' %distancia)\n",
    "distanciami = distancia* 0.621\n",
    "print('La distancia en millas es: ') \n",
    "print(abs(distanciami))\n"
   ]
  }
 ],
 "metadata": {
  "interpreter": {
   "hash": "8ed06d07b9ff369db6ed7b53447be18709da67cd911d838d72fee7fecb26667a"
  },
  "kernelspec": {
   "display_name": "Python 3.10.2 64-bit",
   "language": "python",
   "name": "python3"
  },
  "language_info": {
   "codemirror_mode": {
    "name": "ipython",
    "version": 3
   },
   "file_extension": ".py",
   "mimetype": "text/x-python",
   "name": "python",
   "nbconvert_exporter": "python",
   "pygments_lexer": "ipython3",
   "version": "3.10.2"
  },
  "orig_nbformat": 4
 },
 "nbformat": 4,
 "nbformat_minor": 2
}
